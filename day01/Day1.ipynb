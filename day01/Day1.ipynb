{
 "cells": [
  {
   "cell_type": "markdown",
   "id": "ac39de4a",
   "metadata": {},
   "source": [
    "# Star 01"
   ]
  },
  {
   "cell_type": "code",
   "execution_count": 2,
   "id": "42856090",
   "metadata": {},
   "outputs": [
    {
     "data": {
      "text/html": [
       "<style>.container { width:90% !important; }</style>"
      ],
      "text/plain": [
       "<IPython.core.display.HTML object>"
      ]
     },
     "metadata": {},
     "output_type": "display_data"
    }
   ],
   "source": [
    "from IPython.display import display, HTML\n",
    "display(HTML(\"<style>.container { width:90% !important; }</style>\"))"
   ]
  },
  {
   "cell_type": "code",
   "execution_count": 23,
   "id": "042f62f5",
   "metadata": {},
   "outputs": [],
   "source": [
    "calsum = 0\n",
    "with open(\"input.txt\", \"r\") as f:\n",
    "    for line in f:\n",
    "        res = [int(i) for i in line if i.isdigit()]\n",
    "        val = int(str(res[0])+str(res[-1]))\n",
    "        calsum += val"
   ]
  },
  {
   "cell_type": "code",
   "execution_count": 24,
   "id": "7c8a3bd8",
   "metadata": {},
   "outputs": [
    {
     "data": {
      "text/plain": [
       "54990"
      ]
     },
     "execution_count": 24,
     "metadata": {},
     "output_type": "execute_result"
    }
   ],
   "source": [
    "calsum"
   ]
  },
  {
   "cell_type": "markdown",
   "id": "7acb0a15",
   "metadata": {},
   "source": [
    "# Star 02"
   ]
  },
  {
   "cell_type": "code",
   "execution_count": 25,
   "id": "a16b86f2",
   "metadata": {},
   "outputs": [],
   "source": [
    "digits_dict = {'zero' : 0, \n",
    "               'one'  : 1,\n",
    "               'two'  : 2,\n",
    "               'three': 3,\n",
    "               'four' : 4,\n",
    "               'five' : 5,\n",
    "               'six'  : 6,\n",
    "               'seven': 7,\n",
    "               'eight': 8,\n",
    "               'nine' : 9\n",
    "              }"
   ]
  },
  {
   "cell_type": "code",
   "execution_count": 26,
   "id": "1f54ee59",
   "metadata": {},
   "outputs": [],
   "source": [
    "test = '2qlljdqcbeight'"
   ]
  },
  {
   "cell_type": "code",
   "execution_count": 27,
   "id": "2c75952a",
   "metadata": {},
   "outputs": [
    {
     "name": "stdout",
     "output_type": "stream",
     "text": [
      "9\n"
     ]
    }
   ],
   "source": [
    "print(test.find('eight'))"
   ]
  },
  {
   "cell_type": "code",
   "execution_count": 28,
   "id": "d1056f27",
   "metadata": {},
   "outputs": [
    {
     "name": "stdout",
     "output_type": "stream",
     "text": [
      "-1\n"
     ]
    }
   ],
   "source": [
    "print(test.find('ugh'))"
   ]
  },
  {
   "cell_type": "code",
   "execution_count": 30,
   "id": "e2fc5002",
   "metadata": {},
   "outputs": [
    {
     "ename": "SyntaxError",
     "evalue": "incomplete input (3939687848.py, line 2)",
     "output_type": "error",
     "traceback": [
      "\u001b[1;36m  Cell \u001b[1;32mIn[30], line 2\u001b[1;36m\u001b[0m\n\u001b[1;33m    if (test.find(i) != -1):\u001b[0m\n\u001b[1;37m                            ^\u001b[0m\n\u001b[1;31mSyntaxError\u001b[0m\u001b[1;31m:\u001b[0m incomplete input\n"
     ]
    }
   ],
   "source": [
    "for i in digits_dict:\n",
    "    if (test.find(i) != -1):\n",
    "        "
   ]
  },
  {
   "cell_type": "code",
   "execution_count": null,
   "id": "a0611d61",
   "metadata": {},
   "outputs": [],
   "source": []
  }
 ],
 "metadata": {
  "kernelspec": {
   "display_name": "Python 3 (ipykernel)",
   "language": "python",
   "name": "python3"
  },
  "language_info": {
   "codemirror_mode": {
    "name": "ipython",
    "version": 3
   },
   "file_extension": ".py",
   "mimetype": "text/x-python",
   "name": "python",
   "nbconvert_exporter": "python",
   "pygments_lexer": "ipython3",
   "version": "3.11.5"
  }
 },
 "nbformat": 4,
 "nbformat_minor": 5
}
